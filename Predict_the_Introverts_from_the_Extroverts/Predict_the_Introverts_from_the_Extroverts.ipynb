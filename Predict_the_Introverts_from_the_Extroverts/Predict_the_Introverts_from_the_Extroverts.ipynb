{
  "nbformat": 4,
  "nbformat_minor": 0,
  "metadata": {
    "colab": {
      "provenance": [],
      "authorship_tag": "ABX9TyP1ufHYg+Qhj+JED/uJ3c+G",
      "include_colab_link": true
    },
    "kernelspec": {
      "name": "python3",
      "display_name": "Python 3"
    },
    "language_info": {
      "name": "python"
    }
  },
  "cells": [
    {
      "cell_type": "markdown",
      "metadata": {
        "id": "view-in-github",
        "colab_type": "text"
      },
      "source": [
        "<a href=\"https://colab.research.google.com/github/inspire007/KaggleCompetitions/blob/main/Predict_the_Introverts_from_the_Extroverts/Predict_the_Introverts_from_the_Extroverts.ipynb\" target=\"_parent\"><img src=\"https://colab.research.google.com/assets/colab-badge.svg\" alt=\"Open In Colab\"/></a>"
      ]
    },
    {
      "cell_type": "code",
      "execution_count": 28,
      "metadata": {
        "colab": {
          "base_uri": "https://localhost:8080/"
        },
        "id": "AF-n3RmeX7AQ",
        "outputId": "0b4f9eb7-a51d-46dc-dda5-6589a6d35b8a"
      },
      "outputs": [
        {
          "output_type": "stream",
          "name": "stdout",
          "text": [
            "Model SVC: Mean: 0.9685271039083199, Std: 0.0037350018442881042\n",
            "\n",
            "Model randomF: Mean: 0.966583813068295, Std: 0.003626276795830906\n",
            "\n",
            "Model tree: Mean: 0.9339229828694113, Std: 0.004703715102801197\n",
            "\n",
            "Model gnb: Mean: 0.9685270456291182, Std: 0.0036486232524324414\n",
            "\n",
            "Model logR: Mean: 0.9686351244086119, Std: 0.0037919606873287374\n",
            "\n",
            "Model xgb: Mean: 0.9677171395635356, Std: 0.003857341767865289\n",
            "\n",
            "Model selected based on accuracy: LogisticRegression()\n",
            "\n",
            "Best accuracy based on GridSearch: 0.9687433829646505\n",
            "\n",
            "Best params: {'C': np.float64(0.75)}\n",
            "\n"
          ]
        }
      ],
      "source": [
        "import numpy as np\n",
        "import pandas as pd\n",
        "import matplotlib.pyplot as plt\n",
        "from sklearn.preprocessing import LabelEncoder\n",
        "from sklearn.compose import make_column_selector\n",
        "from sklearn.pipeline import Pipeline\n",
        "from sklearn.impute import SimpleImputer\n",
        "from sklearn.preprocessing import StandardScaler\n",
        "from sklearn.preprocessing import OneHotEncoder\n",
        "from sklearn.compose import ColumnTransformer\n",
        "from sklearn.svm import SVC\n",
        "from sklearn.ensemble import RandomForestClassifier\n",
        "from sklearn.tree import DecisionTreeClassifier\n",
        "from sklearn.naive_bayes import GaussianNB\n",
        "from sklearn.model_selection import cross_val_score\n",
        "from sklearn.model_selection import GridSearchCV\n",
        "from sklearn.linear_model import LogisticRegression\n",
        "from xgboost import XGBClassifier\n",
        "\n",
        "data = pd.read_csv('train.csv')\n",
        "data_test = pd.read_csv('test.csv')\n",
        "\n",
        "X = data.iloc[:, 1:-1]\n",
        "X_test = data_test.iloc[:, 1:]\n",
        "y = data.iloc[:, -1].values\n",
        "le = LabelEncoder()\n",
        "y = le.fit_transform(y)\n",
        "\n",
        "num_cols = make_column_selector(dtype_include='number')\n",
        "cat_cols = make_column_selector(dtype_include='object')\n",
        "\n",
        "num_pipe = Pipeline([\n",
        "    ('num', SimpleImputer(strategy='mean')),\n",
        "    ('std', StandardScaler())\n",
        "])\n",
        "\n",
        "cat_pipe = Pipeline([\n",
        "    ('cat', SimpleImputer(strategy='most_frequent')),\n",
        "    ('encoder', OneHotEncoder())\n",
        "])\n",
        "\n",
        "ct = ColumnTransformer([\n",
        "    ('num_c', num_pipe, num_cols),\n",
        "    ('cat_c', cat_pipe, cat_cols)\n",
        "], remainder='passthrough')\n",
        "\n",
        "X = ct.fit_transform(X)\n",
        "X_test = ct.transform(X_test)\n",
        "\n",
        "models = {\n",
        "    'SVC': SVC(kernel='rbf'),\n",
        "    'randomF': RandomForestClassifier(),\n",
        "    'tree': DecisionTreeClassifier(),\n",
        "    'gnb': GaussianNB(),\n",
        "    'logR': LogisticRegression(),\n",
        "    'xgb': XGBClassifier()\n",
        "}\n",
        "\n",
        "max_acc = 0\n",
        "selected_model = False\n",
        "\n",
        "\n",
        "for name, model in models.items():\n",
        "  cv = cross_val_score(estimator=model, X = X, y = y, cv = 10)\n",
        "  mean = cv.mean()\n",
        "  std = cv.std()\n",
        "  print(f'Model {name}: Mean: {mean}, Std: {std}\\n')\n",
        "  if mean > max_acc:\n",
        "    selected_model = model\n",
        "    max_acc = mean\n",
        "\n",
        "print(f'Model selected based on accuracy: {selected_model}\\n')\n",
        "\n",
        "#parameter tuning\n",
        "#params = [\n",
        "    #{'kernel': ['linear'], 'C': list(np.arange(0.25, 1, .25))},\n",
        "    #{'kernel': ['rbf'], 'C': list(np.arange(0.25, 1, .25)), 'gamma': list(np.arange(0.1,1,0.1)) }\n",
        "#]\n",
        "\n",
        "params = [\n",
        "    {'C': list(np.arange(0.25, 1, 0.25))}\n",
        "]\n",
        "\n",
        "gcv = GridSearchCV(estimator=LogisticRegression(), param_grid=params, scoring='accuracy', cv = 3, n_jobs=-1)\n",
        "gcv.fit(X,y)\n",
        "best_acc = gcv.best_score_\n",
        "best_params = gcv.best_params_\n",
        "\n",
        "print(f'Best accuracy based on GridSearch: {best_acc}\\n')\n",
        "print(f'Best params: {best_params}\\n')\n",
        "\n",
        "model = LogisticRegression(C=0.75)\n",
        "model.fit(X,y)\n",
        "y_predict = le.inverse_transform(model.predict(X_test))\n",
        "pid = data_test['id']\n",
        "\n",
        "np.savetxt('output.csv', np.column_stack((pid,y_predict)), header='id,Personality', delimiter=',', fmt=['%d','%s'], comments='')"
      ]
    }
  ]
}