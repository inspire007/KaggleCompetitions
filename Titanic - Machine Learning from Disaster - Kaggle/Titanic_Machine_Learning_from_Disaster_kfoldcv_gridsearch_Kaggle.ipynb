{
  "nbformat": 4,
  "nbformat_minor": 0,
  "metadata": {
    "colab": {
      "provenance": [],
      "authorship_tag": "ABX9TyNNl0f+S6Aq0ZNVPNaQlicL",
      "include_colab_link": true
    },
    "kernelspec": {
      "name": "python3",
      "display_name": "Python 3"
    },
    "language_info": {
      "name": "python"
    }
  },
  "cells": [
    {
      "cell_type": "markdown",
      "metadata": {
        "id": "view-in-github",
        "colab_type": "text"
      },
      "source": [
        "<a href=\"https://colab.research.google.com/github/inspire007/KaggleCompetitions/blob/main/Titanic%20-%20Machine%20Learning%20from%20Disaster%20-%20Kaggle/Titanic_Machine_Learning_from_Disaster_kfoldcv_gridsearch_Kaggle.ipynb\" target=\"_parent\"><img src=\"https://colab.research.google.com/assets/colab-badge.svg\" alt=\"Open In Colab\"/></a>"
      ]
    },
    {
      "cell_type": "code",
      "execution_count": 28,
      "metadata": {
        "colab": {
          "base_uri": "https://localhost:8080/"
        },
        "id": "v-AC1JtJ7OA3",
        "outputId": "f996fce8-8f86-417a-814e-c10e52e92f39"
      },
      "outputs": [
        {
          "output_type": "stream",
          "name": "stdout",
          "text": [
            "SVC() accuracy:  82.04,  4.63\n",
            "RandomForestClassifier(n_estimators=500, random_state=42) accuracy:  80.93,  6.79\n",
            "DecisionTreeClassifier() accuracy:  78.79,  5.22\n",
            "LogisticRegression() accuracy:  80.14,  4.09\n",
            "XGBClassifier(base_score=None, booster=None, callbacks=None,\n",
            "              colsample_bylevel=None, colsample_bynode=None,\n",
            "              colsample_bytree=None, device=None, early_stopping_rounds=None,\n",
            "              enable_categorical=False, eval_metric=None, feature_types=None,\n",
            "              gamma=None, grow_policy=None, importance_type=None,\n",
            "              interaction_constraints=None, learning_rate=None, max_bin=None,\n",
            "              max_cat_threshold=None, max_cat_to_onehot=None,\n",
            "              max_delta_step=None, max_depth=None, max_leaves=None,\n",
            "              min_child_weight=None, missing=nan, monotone_constraints=None,\n",
            "              multi_strategy=None, n_estimators=None, n_jobs=None,\n",
            "              num_parallel_tree=None, random_state=None, ...) accuracy:  80.69,  4.92\n",
            "GaussianNB() accuracy:  78.90,  4.76\n",
            "Selected model based on max accuracy:  SVC()\n",
            "New accuracy:  0.8260353535353536 \n",
            "Params:  {'C': np.float64(0.5), 'gamma': np.float64(0.2), 'kernel': 'rbf'} \n",
            "\n"
          ]
        }
      ],
      "source": [
        "import numpy as np\n",
        "import pandas as pd\n",
        "from sklearn.compose import make_column_selector\n",
        "from sklearn.compose import ColumnTransformer\n",
        "from sklearn.pipeline import Pipeline\n",
        "from sklearn.impute import SimpleImputer\n",
        "from sklearn.preprocessing import StandardScaler\n",
        "from sklearn.preprocessing import OneHotEncoder\n",
        "from sklearn.svm import SVC\n",
        "from sklearn.tree import DecisionTreeClassifier\n",
        "from sklearn.ensemble import RandomForestClassifier\n",
        "from sklearn.linear_model import LogisticRegression\n",
        "from sklearn.model_selection import cross_val_score\n",
        "from sklearn.model_selection import GridSearchCV\n",
        "from xgboost import XGBClassifier\n",
        "from sklearn.naive_bayes import GaussianNB\n",
        "\n",
        "data = pd.read_csv('train.csv')\n",
        "X = data.iloc[:, [2,4,5,6,7,11]]\n",
        "y = data.iloc[:, 1].values\n",
        "\n",
        "num_cols = make_column_selector(dtype_include='number')\n",
        "cat_cols = make_column_selector(dtype_include='object')\n",
        "\n",
        "num_pipe = Pipeline([\n",
        "    ('imputer', SimpleImputer(strategy='mean')),\n",
        "    ('scaler', StandardScaler())\n",
        "])\n",
        "\n",
        "cat_pipe = Pipeline([\n",
        "    ('imputer', SimpleImputer(strategy='most_frequent')),\n",
        "    ('encoder', OneHotEncoder(handle_unknown='ignore'))\n",
        "])\n",
        "\n",
        "preprocessor = ColumnTransformer([\n",
        "      ('num', num_pipe, num_cols),\n",
        "      ('cat', cat_pipe, cat_cols)\n",
        "], remainder = 'passthrough')\n",
        "\n",
        "X = preprocessor.fit_transform(X)\n",
        "\n",
        "models = {\n",
        "    'SVC': SVC(kernel='rbf'),\n",
        "    'RandomForest': RandomForestClassifier(n_estimators=500, random_state=42),\n",
        "    'DecTree': DecisionTreeClassifier(),\n",
        "    'LogisticR': LogisticRegression(),\n",
        "    'XGBClassifier': XGBClassifier(),\n",
        "    'GaussianNB': GaussianNB()\n",
        "}\n",
        "\n",
        "max_acc = 0\n",
        "selected_model = False\n",
        "\n",
        "for name,model in models.items():\n",
        "  cv_score = cross_val_score(estimator=model, X = X, y = y, cv = 20)\n",
        "  mean = cv_score.mean()\n",
        "  std = cv_score.std()\n",
        "  print(f'{model} accuracy: {mean*100 : .2f}, {std*100 : .2f}')\n",
        "  if(mean > max_acc):\n",
        "    max_acc = mean\n",
        "    selected_model = model\n",
        "\n",
        "print('Selected model based on max accuracy: ', selected_model)\n",
        "\n",
        "#since SVC is selected, we would do parameter tuning using gridsearchcv\n",
        "#now grid searchCV\n",
        "params = [\n",
        "    {'C': list(np.arange(.25, 1, .25)), 'kernel': ['linear']},\n",
        "    {'C': list(np.arange(.25, 1, .25)), 'kernel': ['rbf'], 'gamma': list(np.arange(0.1,0.9,0.1))}\n",
        "]\n",
        "\n",
        "gridCV = GridSearchCV(estimator=selected_model, param_grid=params, scoring = 'accuracy', cv = 20)\n",
        "gridCVRun = gridCV.fit(X, y)\n",
        "\n",
        "accuracy = gridCVRun.best_score_\n",
        "best_param = gridCVRun.best_params_\n",
        "\n",
        "print(\"New accuracy: \", accuracy, \"\\nParams: \", best_param, '\\n')\n",
        "\n",
        "#model tuning based on gridsearchcv\n",
        "final_model = SVC(kernel='rbf', C=0.5, gamma=0.2)\n",
        "final_model.fit(X, y)\n",
        "\n",
        "#now predict given data sample\n",
        "data = pd.read_csv('test.csv')\n",
        "X_test_actual = data.iloc[:, [1,3,4,5,6,10]]\n",
        "X_test_actual = preprocessor.transform(X_test_actual)\n",
        "\n",
        "y_pred_actual = final_model.predict(X_test_actual)\n",
        "pid = data['PassengerId'].values\n",
        "\n",
        "np.savetxt('output.csv', np.column_stack((pid,y_pred_actual)), header=\"PassengerId,Survived\", fmt =\"%d\", delimiter=',', comments='')"
      ]
    },
    {
      "cell_type": "code",
      "source": [],
      "metadata": {
        "id": "bjjLC4YiBZ54"
      },
      "execution_count": 28,
      "outputs": []
    }
  ]
}