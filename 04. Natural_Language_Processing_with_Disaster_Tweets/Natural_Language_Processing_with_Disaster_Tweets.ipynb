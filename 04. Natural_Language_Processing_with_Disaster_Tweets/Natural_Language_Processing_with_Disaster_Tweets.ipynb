{
  "nbformat": 4,
  "nbformat_minor": 0,
  "metadata": {
    "colab": {
      "provenance": [],
      "authorship_tag": "ABX9TyMdCfxVYsh9Qahwwvv0u/Xw",
      "include_colab_link": true
    },
    "kernelspec": {
      "name": "python3",
      "display_name": "Python 3"
    },
    "language_info": {
      "name": "python"
    }
  },
  "cells": [
    {
      "cell_type": "markdown",
      "metadata": {
        "id": "view-in-github",
        "colab_type": "text"
      },
      "source": [
        "<a href=\"https://colab.research.google.com/github/inspire007/KaggleCompetitions/blob/main/Natural_Language_Processing_with_Disaster_Tweets/Natural_Language_Processing_with_Disaster_Tweets.ipynb\" target=\"_parent\"><img src=\"https://colab.research.google.com/assets/colab-badge.svg\" alt=\"Open In Colab\"/></a>"
      ]
    },
    {
      "cell_type": "code",
      "execution_count": 10,
      "metadata": {
        "colab": {
          "base_uri": "https://localhost:8080/"
        },
        "id": "xqju_LUn64Vu",
        "outputId": "504ba24b-ab19-4da7-ad26-e43a116c0780"
      },
      "outputs": [
        {
          "output_type": "stream",
          "name": "stderr",
          "text": [
            "[nltk_data] Downloading package stopwords to /root/nltk_data...\n",
            "[nltk_data]   Package stopwords is already up-to-date!\n"
          ]
        },
        {
          "output_type": "stream",
          "name": "stdout",
          "text": [
            "Model svc mean accuracy: 0.7119489768361255\n",
            "Model rfc mean accuracy: 0.6574354854991749\n",
            "Model nv mean accuracy: 0.6404901454094597\n",
            "Selected model based on accuracy: SVC()\n",
            "\n"
          ]
        }
      ],
      "source": [
        "import numpy as np\n",
        "import pandas as pd\n",
        "import re\n",
        "import nltk\n",
        "from nltk.stem import PorterStemmer\n",
        "from sklearn.feature_extraction.text import CountVectorizer\n",
        "from sklearn.model_selection import train_test_split\n",
        "from sklearn.naive_bayes import GaussianNB\n",
        "from sklearn.svm import SVC\n",
        "from sklearn.ensemble import RandomForestClassifier\n",
        "from sklearn.metrics import accuracy_score, confusion_matrix\n",
        "from sklearn.model_selection import cross_val_score, GridSearchCV\n",
        "\n",
        "nltk.download('stopwords')\n",
        "from nltk.corpus import stopwords\n",
        "words = []\n",
        "test_words = []\n",
        "\n",
        "def text_processing(text):\n",
        "  text = re.sub('[^a-zA-Z]', ' ', text)\n",
        "  text = text.lower().split()\n",
        "  ps = PorterStemmer()\n",
        "  text = [ps.stem(word) for word in text if not word in set(stopwords.words('english'))]\n",
        "  return ' '.join(text)\n",
        "\n",
        "\n",
        "data = pd.read_csv('train.csv')\n",
        "data_test = pd.read_csv('test.csv')\n",
        "y = data['target'].values\n",
        "\n",
        "for i in range(0, len(data)):\n",
        "  text = text_processing(data['text'][i])\n",
        "  words.append(text)\n",
        "\n",
        "for i in range(0, len(data_test)):\n",
        "  text = text_processing(data_test['text'][i])\n",
        "  test_words.append(text)\n",
        "\n",
        "cv = CountVectorizer(max_features=1500)\n",
        "X = cv.fit_transform(words).toarray()\n",
        "X_test = cv.transform(test_words).toarray()\n",
        "\n",
        "models = {\n",
        "    'svc': SVC(kernel='rbf'),\n",
        "    'rfc': RandomForestClassifier(n_estimators=500),\n",
        "    'nv': GaussianNB(),\n",
        "}\n",
        "\n",
        "max_acc = 0\n",
        "selected = False\n",
        "\n",
        "for name, model in models.items():\n",
        "  cvs = cross_val_score(estimator = model, X=X, y=y, cv=5)\n",
        "  mean = cvs.mean()\n",
        "  print(f'Model {name} mean accuracy: {mean}')\n",
        "  if mean > max_acc:\n",
        "    max_acc = mean\n",
        "    selected = model\n",
        "\n",
        "print(f'Selected model based on accuracy: {selected}\\n')\n",
        "\n",
        "model = SVC(kernel='rbf')\n",
        "model.fit(X,y)\n",
        "y_pred = model.predict(X_test)\n",
        "ids = data_test['id'].values\n",
        "\n",
        "np.savetxt('output.csv', np.column_stack((ids,y_pred)), delimiter=',', comments='', header='id,target', fmt=['%d', '%d'])"
      ]
    }
  ]
}