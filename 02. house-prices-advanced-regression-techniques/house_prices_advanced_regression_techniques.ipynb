{
  "nbformat": 4,
  "nbformat_minor": 0,
  "metadata": {
    "colab": {
      "provenance": [],
      "authorship_tag": "ABX9TyNkpY8XrQAeuXwBapQepAAR",
      "include_colab_link": true
    },
    "kernelspec": {
      "name": "python3",
      "display_name": "Python 3"
    },
    "language_info": {
      "name": "python"
    }
  },
  "cells": [
    {
      "cell_type": "markdown",
      "metadata": {
        "id": "view-in-github",
        "colab_type": "text"
      },
      "source": [
        "<a href=\"https://colab.research.google.com/github/inspire007/KaggleCompetitions/blob/main/house-prices-advanced-regression-techniques/house_prices_advanced_regression_techniques.ipynb\" target=\"_parent\"><img src=\"https://colab.research.google.com/assets/colab-badge.svg\" alt=\"Open In Colab\"/></a>"
      ]
    },
    {
      "cell_type": "code",
      "execution_count": null,
      "metadata": {
        "id": "Q1QakUwXatsI",
        "colab": {
          "base_uri": "https://localhost:8080/"
        },
        "outputId": "79413c92-6e42-4a67-a838-9cdc57bfc620"
      },
      "outputs": [
        {
          "output_type": "stream",
          "name": "stdout",
          "text": [
            "RandomForest model r2 score: 0.8956128641464159\n",
            "\n",
            "DecTree model r2 score: 0.7777274383941502\n",
            "\n",
            "SVR model r2 score: -0.02520067056392561\n",
            "\n",
            "linearR model r2 score: 0.8876326710509317\n",
            "\n",
            "Selected model:  RandomForestRegressor(n_estimators=500, random_state=42) \n",
            "Max accuracy:  0.8956128641464159\n"
          ]
        }
      ],
      "source": [
        "import numpy as np\n",
        "import pandas as pd\n",
        "from sklearn.metrics import r2_score\n",
        "from sklearn.preprocessing import StandardScaler\n",
        "from sklearn.preprocessing import OneHotEncoder\n",
        "from sklearn.compose import ColumnTransformer\n",
        "from sklearn.compose import make_column_selector as selector\n",
        "from sklearn.model_selection import train_test_split\n",
        "from sklearn.pipeline import Pipeline\n",
        "from sklearn.impute import SimpleImputer\n",
        "from sklearn.ensemble import RandomForestRegressor\n",
        "from sklearn.tree import DecisionTreeRegressor\n",
        "from sklearn.svm import SVR\n",
        "from sklearn.linear_model import LinearRegression\n",
        "from sklearn.preprocessing import PolynomialFeatures\n",
        "\n",
        "data = pd.read_csv('train.csv')\n",
        "\n",
        "X = data.iloc[:, 1:-1]\n",
        "y = data.iloc[:, -1]\n",
        "\n",
        "X_train_o, X_test_o, y_train, y_test = train_test_split(X,y, test_size=0.25, random_state=42)\n",
        "\n",
        "num_cols = selector(dtype_include='number')\n",
        "cat_cols = selector(dtype_include='object')\n",
        "\n",
        "num_pipe = Pipeline([\n",
        "    ('imp', SimpleImputer(strategy='mean')),\n",
        "    ('scaler', StandardScaler())\n",
        "])\n",
        "\n",
        "cat_pipe = Pipeline([\n",
        "    ('imp', SimpleImputer(strategy='most_frequent')),\n",
        "    ('onehot', OneHotEncoder(handle_unknown='ignore', sparse_output=False))\n",
        "])\n",
        "\n",
        "preprocessor = ColumnTransformer([\n",
        "    ('num_p', num_pipe, num_cols),\n",
        "    ('cat_p', cat_pipe, cat_cols)\n",
        "], remainder = 'passthrough')\n",
        "\n",
        "X_train = preprocessor.fit_transform(X_train_o)\n",
        "X_test = preprocessor.transform(X_test_o)\n",
        "\n",
        "models = {\n",
        "    'RandomForest': RandomForestRegressor(n_estimators=500, random_state=42),\n",
        "    'DecTree': DecisionTreeRegressor(random_state=42),\n",
        "    'SVR': SVR(kernel='rbf'),\n",
        "    'linearR': LinearRegression()\n",
        "}\n",
        "\n",
        "max_acc = 0\n",
        "selected_model = False\n",
        "\n",
        "for name,model in models.items():\n",
        "  model.fit(X_train, y_train)\n",
        "  y_pred = model.predict(X_test)\n",
        "  r2 = r2_score(y_test, y_pred)\n",
        "  print(f'{name} model r2 score: {r2}\\n')\n",
        "  if r2 > max_acc:\n",
        "    max_acc = r2\n",
        "    selected_model = model\n",
        "\n",
        "print('Selected model: ', selected_model, '\\nMax accuracy: ', max_acc)\n",
        "\n",
        "X = preprocessor.fit_transform(X)\n",
        "selected_model.fit(X,y)\n",
        "\n",
        "data = pd.read_csv('test.csv')\n",
        "X_test_actual = data.iloc[:, 1:]\n",
        "X_test_actual = preprocessor.transform(X_test_actual)\n",
        "\n",
        "y_pred_actual = selected_model.predict(X_test_actual)\n",
        "pid = data.iloc[:, 0].values\n",
        "\n",
        "np.savetxt('housing_output.csv', np.column_stack((pid, y_pred_actual)), delimiter=',', comments='', header='Id,SalePrice', fmt=['%d', '%.3f'])\n"
      ]
    }
  ]
}