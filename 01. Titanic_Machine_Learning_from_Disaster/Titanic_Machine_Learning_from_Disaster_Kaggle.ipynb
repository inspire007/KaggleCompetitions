{
  "nbformat": 4,
  "nbformat_minor": 0,
  "metadata": {
    "colab": {
      "provenance": [],
      "authorship_tag": "ABX9TyMUgxTm0lUAbo0TjI1EDH2O",
      "include_colab_link": true
    },
    "kernelspec": {
      "name": "python3",
      "display_name": "Python 3"
    },
    "language_info": {
      "name": "python"
    }
  },
  "cells": [
    {
      "cell_type": "markdown",
      "metadata": {
        "id": "view-in-github",
        "colab_type": "text"
      },
      "source": [
        "<a href=\"https://colab.research.google.com/github/inspire007/KaggleCompetitions/blob/main/Titanic_Machine_Learning_from_Disaster/Titanic_Machine_Learning_from_Disaster_Kaggle.ipynb\" target=\"_parent\"><img src=\"https://colab.research.google.com/assets/colab-badge.svg\" alt=\"Open In Colab\"/></a>"
      ]
    },
    {
      "cell_type": "code",
      "execution_count": 15,
      "metadata": {
        "colab": {
          "base_uri": "https://localhost:8080/"
        },
        "id": "_rDsb-0LZCto",
        "outputId": "e8e00460-27a7-4766-bf04-82bf1d2a5652"
      },
      "outputs": [
        {
          "output_type": "stream",
          "name": "stdout",
          "text": [
            "LogisticRegression accuracy: 0.8071748878923767\n",
            "[[114  20]\n",
            " [ 23  66]]\n",
            "\n",
            "\n",
            "RandomForest accuracy: 0.8026905829596412\n",
            "[[115  19]\n",
            " [ 25  64]]\n",
            "\n",
            "\n",
            "DecistionTree accuracy: 0.726457399103139\n",
            "[[105  29]\n",
            " [ 32  57]]\n",
            "\n",
            "\n",
            "SVC accuracy: 0.820627802690583\n",
            "[[120  14]\n",
            " [ 26  63]]\n",
            "\n",
            "\n",
            "Selected model:  SVC(random_state=42)\n",
            "Max accuracy:  0.820627802690583\n"
          ]
        }
      ],
      "source": [
        "import numpy as np\n",
        "import pandas as pd\n",
        "from sklearn.pipeline import Pipeline\n",
        "from sklearn.preprocessing import OneHotEncoder\n",
        "from sklearn.compose import ColumnTransformer\n",
        "from sklearn.impute import SimpleImputer\n",
        "from sklearn.model_selection import train_test_split\n",
        "from sklearn.preprocessing import StandardScaler\n",
        "from sklearn.metrics import confusion_matrix, accuracy_score\n",
        "from sklearn.linear_model import LogisticRegression\n",
        "from sklearn.ensemble import RandomForestClassifier\n",
        "from sklearn.tree import DecisionTreeClassifier\n",
        "from sklearn.svm import SVC\n",
        "\n",
        "data = pd.read_csv('train.csv')\n",
        "\n",
        "#split X,y\n",
        "X = data.iloc[:, [2,4,5,6,7,11]].values\n",
        "y = data.iloc[:, 1].values\n",
        "\n",
        "num_features = [0,2,3,4]\n",
        "cat_features = [1,5]\n",
        "\n",
        "num_pipeline = Pipeline([\n",
        "    ('imputer', SimpleImputer(strategy='mean')),\n",
        "    ('scaler', StandardScaler())\n",
        "])\n",
        "\n",
        "cat_pipeline = Pipeline([\n",
        "    ('imputer', SimpleImputer(strategy='most_frequent')),\n",
        "    ('onehot', OneHotEncoder(handle_unknown='ignore'))\n",
        "])\n",
        "\n",
        "preprocessor = ColumnTransformer([\n",
        "    ('num', num_pipeline, num_features),\n",
        "    ('cat', cat_pipeline, cat_features)\n",
        "])\n",
        "\n",
        "X_train, X_test, y_train, y_test = train_test_split(X, y, test_size=0.25, random_state=42)\n",
        "\n",
        "X_train = preprocessor.fit_transform(X_train)\n",
        "X_test = preprocessor.transform(X_test)\n",
        "\n",
        "models = {\n",
        "    'LogisticRegression': LogisticRegression(),\n",
        "    'RandomForest': RandomForestClassifier(n_estimators=500, random_state=42),\n",
        "    'DecistionTree': DecisionTreeClassifier(),\n",
        "    'SVC': SVC(kernel='rbf', random_state=42)\n",
        "}\n",
        "\n",
        "selected_model = False\n",
        "max_acc = 0\n",
        "\n",
        "for name,model in models.items():\n",
        "  model.fit(X_train, y_train)\n",
        "  y_pred = model.predict(X_test)\n",
        "  cfm = confusion_matrix(y_test, y_pred)\n",
        "  acc = accuracy_score(y_test, y_pred)\n",
        "  if acc > max_acc:\n",
        "    max_acc = acc\n",
        "    selected_model = model\n",
        "  print(f'{name} accuracy: {acc}')\n",
        "  print(cfm)\n",
        "  print('\\n')\n",
        "\n",
        "print('Selected model: ', selected_model)\n",
        "print('Max accuracy: ', max_acc)\n",
        "\n",
        "#train full dataset with selected model\n",
        "X = preprocessor.fit_transform(X)\n",
        "selected_model.fit(X,y)\n",
        "\n",
        "#now predict given data sample\n",
        "data = pd.read_csv('test.csv')\n",
        "X_test_actual = data.iloc[:, [1,3,4,5,6,10]].values\n",
        "X_test_actual = preprocessor.transform(X_test_actual)\n",
        "\n",
        "y_pred_actual = selected_model.predict(X_test_actual)\n",
        "pid = data['PassengerId'].values\n",
        "\n",
        "np.savetxt('output.csv', np.column_stack((pid,y_pred_actual)), header=\"PassengerId,Survived\", fmt =\"%d\", delimiter=',', comments='')"
      ]
    }
  ]
}